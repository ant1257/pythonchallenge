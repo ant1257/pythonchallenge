{
 "cells": [
  {
   "cell_type": "markdown",
   "id": "73602496",
   "metadata": {},
   "source": [
    "http://www.pythonchallenge.com/pc/return/bull.html"
   ]
  },
  {
   "cell_type": "code",
   "execution_count": 1,
   "id": "92e196f4",
   "metadata": {},
   "outputs": [
    {
     "data": {
      "text/plain": [
       "'<?xml version=\"1.0\" encoding=\"iso-8859-1\"?>\\n<!DOCTYPE html PUBLIC \"-//W3C//DTD XHTML 1.0 Transitional//EN\"\\n         \"http://www.w3.org/TR/xhtml1/DTD/xhtml1-transitional.dtd\">\\n<html xmlns=\"http://www.w3.org/1999/xhtml\" xml:lang=\"en\" lang=\"en\">\\n <head>\\n  <title>401 Unauthorized</title>\\n </head>\\n <body>\\n  <h1>401 Unauthorized</h1>\\n </body>\\n</html>\\n'"
      ]
     },
     "execution_count": 1,
     "metadata": {},
     "output_type": "execute_result"
    }
   ],
   "source": [
    "import requests\n",
    "\n",
    "url = 'http://www.pythonchallenge.com/pc/return/bull.html' # what are you looking at?\n",
    "page_get = requests.get(url)\n",
    "page_get.text"
   ]
  },
  {
   "cell_type": "markdown",
   "id": "351d8a05",
   "metadata": {},
   "source": [
    "a = [1, 11, 21, 1211, 111221, ..., n]<br>\n",
    "len(a[30]) = ?"
   ]
  },
  {
   "cell_type": "markdown",
   "id": "c8236bc0",
   "metadata": {},
   "source": [
    "This is the \"Look-and-say sequence\" <br>\n",
    "https://en.wikipedia.org/wiki/Look-and-say_sequence <br>"
   ]
  },
  {
   "cell_type": "code",
   "execution_count": 47,
   "id": "ffbbcf85",
   "metadata": {},
   "outputs": [],
   "source": [
    "from itertools import groupby\n",
    "\n",
    "def look_and_say_next(input_string):\n",
    "    next_string = ['{}{}'.format(len(list(group)), key) for key, group in groupby(input_string)]\n",
    "    return ''.join(next_string)"
   ]
  },
  {
   "cell_type": "code",
   "execution_count": 52,
   "id": "7d2c0aca",
   "metadata": {},
   "outputs": [
    {
     "name": "stdout",
     "output_type": "stream",
     "text": [
      "5808\n"
     ]
    }
   ],
   "source": [
    "i = 0\n",
    "input_string = '1'\n",
    "a = [input_string]\n",
    "\n",
    "while(i < 40):\n",
    "    input_string = look_and_say_next(input_string)\n",
    "    a.append(input_string)\n",
    "    i += 1\n",
    "    \n",
    "answer = len(a[30])\n",
    "print(answer)"
   ]
  },
  {
   "cell_type": "markdown",
   "id": "8b077b6f",
   "metadata": {},
   "source": [
    "New link: http://www.pythonchallenge.com/pc/return/5808.html"
   ]
  }
 ],
 "metadata": {
  "kernelspec": {
   "display_name": "Python 3",
   "language": "python",
   "name": "python3"
  },
  "language_info": {
   "codemirror_mode": {
    "name": "ipython",
    "version": 3
   },
   "file_extension": ".py",
   "mimetype": "text/x-python",
   "name": "python",
   "nbconvert_exporter": "python",
   "pygments_lexer": "ipython3",
   "version": "3.7.3"
  }
 },
 "nbformat": 4,
 "nbformat_minor": 5
}
