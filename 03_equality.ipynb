{
 "cells": [
  {
   "cell_type": "markdown",
   "id": "53dacb0f",
   "metadata": {},
   "source": [
    "http://www.pythonchallenge.com/pc/def/equality.html"
   ]
  },
  {
   "cell_type": "code",
   "execution_count": 4,
   "id": "628a8af3",
   "metadata": {},
   "outputs": [],
   "source": [
    "import requests\n",
    "import re"
   ]
  },
  {
   "cell_type": "code",
   "execution_count": 2,
   "id": "ad2fded3",
   "metadata": {},
   "outputs": [],
   "source": [
    "url = 'http://www.pythonchallenge.com/pc/def/equality.html'\n",
    "page_get = requests.get(url)\n",
    "page_text = page_get.text"
   ]
  },
  {
   "cell_type": "markdown",
   "id": "996185e3",
   "metadata": {},
   "source": [
    "- [a-z]{1}   - 1 lower case letter;\n",
    "- ([a-z]{1}) - brackets mean that we only care about the lower case (only this part will be the result for each case)\n",
    "- [A-Z]{3}   - 3 consecutive upper case letters;\n",
    "- [^A-Z]     - any character BUT an upper case letter;"
   ]
  },
  {
   "cell_type": "code",
   "execution_count": 143,
   "id": "4730a779",
   "metadata": {},
   "outputs": [
    {
     "data": {
      "text/plain": [
       "'linkedlist'"
      ]
     },
     "execution_count": 143,
     "metadata": {},
     "output_type": "execute_result"
    }
   ],
   "source": [
    "pattern = '[^A-Z][A-Z]{3}([a-z]){1}[A-Z]{3}[^A-Z]'\n",
    "''.join(re.findall(pattern, page_text))"
   ]
  },
  {
   "cell_type": "markdown",
   "id": "619bc181",
   "metadata": {},
   "source": [
    "linkedlist.php"
   ]
  }
 ],
 "metadata": {
  "kernelspec": {
   "display_name": "Python 3",
   "language": "python",
   "name": "python3"
  },
  "language_info": {
   "codemirror_mode": {
    "name": "ipython",
    "version": 3
   },
   "file_extension": ".py",
   "mimetype": "text/x-python",
   "name": "python",
   "nbconvert_exporter": "python",
   "pygments_lexer": "ipython3",
   "version": "3.7.3"
  }
 },
 "nbformat": 4,
 "nbformat_minor": 5
}
