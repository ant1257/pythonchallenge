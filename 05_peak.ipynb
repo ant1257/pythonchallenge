{
 "cells": [
  {
   "cell_type": "markdown",
   "id": "35e5e265",
   "metadata": {},
   "source": [
    "http://www.pythonchallenge.com/pc/def/peak.html"
   ]
  },
  {
   "cell_type": "code",
   "execution_count": 1,
   "id": "230857e9",
   "metadata": {},
   "outputs": [],
   "source": [
    "import requests"
   ]
  },
  {
   "cell_type": "code",
   "execution_count": 2,
   "id": "5f9f08a2",
   "metadata": {},
   "outputs": [],
   "source": [
    "url = \"http://www.pythonchallenge.com/pc/def/peak.html\"\n",
    "page_get = requests.get(url)"
   ]
  },
  {
   "cell_type": "code",
   "execution_count": 3,
   "id": "b27115a2",
   "metadata": {},
   "outputs": [
    {
     "data": {
      "text/plain": [
       "'<html>\\n<head>\\n  <title>peak hell</title>\\n  <link rel=\"stylesheet\" type=\"text/css\" href=\"../style.css\">\\n</head>\\n<body>\\n<center>\\n<img src=\"peakhell.jpg\"/>\\n<br><font color=\"#c0c0ff\">\\npronounce it\\n<br>\\n<peakhell src=\"banner.p\"/>\\n</body>\\n</html>\\n\\n<!-- peak hell sounds familiar ? -->\\n'"
      ]
     },
     "execution_count": 3,
     "metadata": {},
     "output_type": "execute_result"
    }
   ],
   "source": [
    "page_get.text"
   ]
  },
  {
   "cell_type": "markdown",
   "id": "96f577cc",
   "metadata": {},
   "source": [
    "pronounce it - \"peakhell\"!"
   ]
  },
  {
   "cell_type": "markdown",
   "id": "92133bd6",
   "metadata": {},
   "source": [
    "peak hell sounds familiar?"
   ]
  },
  {
   "cell_type": "code",
   "execution_count": 5,
   "id": "b720a37e",
   "metadata": {},
   "outputs": [],
   "source": [
    "import pandas as pd"
   ]
  },
  {
   "cell_type": "code",
   "execution_count": 15,
   "id": "81322b64",
   "metadata": {},
   "outputs": [
    {
     "name": "stdout",
     "output_type": "stream",
     "text": [
      "<class 'list'>\n"
     ]
    },
    {
     "data": {
      "text/plain": [
       "[[(' ', 95)],\n",
       " [(' ', 14), ('#', 5), (' ', 70), ('#', 5), (' ', 1)],\n",
       " [(' ', 15), ('#', 4), (' ', 71), ('#', 4), (' ', 1)],\n",
       " [(' ', 15), ('#', 4), (' ', 71), ('#', 4), (' ', 1)],\n",
       " [(' ', 15), ('#', 4), (' ', 71), ('#', 4), (' ', 1)]]"
      ]
     },
     "execution_count": 15,
     "metadata": {},
     "output_type": "execute_result"
    }
   ],
   "source": [
    "pickle_list = pd.read_pickle(\"http://www.pythonchallenge.com/pc/def/banner.p\")\n",
    "print(type(pickle_list))\n",
    "pickle_list[0:5]"
   ]
  },
  {
   "cell_type": "code",
   "execution_count": 21,
   "id": "287e7214",
   "metadata": {},
   "outputs": [
    {
     "name": "stdout",
     "output_type": "stream",
     "text": [
      "                                                                                               \n",
      "              #####                                                                      ##### \n",
      "               ####                                                                       #### \n",
      "               ####                                                                       #### \n",
      "               ####                                                                       #### \n",
      "               ####                                                                       #### \n",
      "               ####                                                                       #### \n",
      "               ####                                                                       #### \n",
      "               ####                                                                       #### \n",
      "      ###      ####   ###         ###       #####   ###    #####   ###          ###       #### \n",
      "   ###   ##    #### #######     ##  ###      #### #######   #### #######     ###  ###     #### \n",
      "  ###     ###  #####    ####   ###   ####    #####    ####  #####    ####   ###     ###   #### \n",
      " ###           ####     ####   ###    ###    ####     ####  ####     ####  ###      ####  #### \n",
      " ###           ####     ####          ###    ####     ####  ####     ####  ###       ###  #### \n",
      "####           ####     ####     ##   ###    ####     ####  ####     #### ####       ###  #### \n",
      "####           ####     ####   ##########    ####     ####  ####     #### ##############  #### \n",
      "####           ####     ####  ###    ####    ####     ####  ####     #### ####            #### \n",
      "####           ####     #### ####     ###    ####     ####  ####     #### ####            #### \n",
      " ###           ####     #### ####     ###    ####     ####  ####     ####  ###            #### \n",
      "  ###      ##  ####     ####  ###    ####    ####     ####  ####     ####   ###      ##   #### \n",
      "   ###    ##   ####     ####   ###########   ####     ####  ####     ####    ###    ##    #### \n",
      "      ###     ######    #####    ##    #### ######    ###########    #####      ###      ######\n",
      "                                                                                               \n"
     ]
    }
   ],
   "source": [
    "for row in pickle_list:\n",
    "    row_list = [item[0] * item[1] for item in row]\n",
    "    print(''.join(row_list))"
   ]
  },
  {
   "cell_type": "markdown",
   "id": "6862feb8",
   "metadata": {},
   "source": [
    "channel"
   ]
  },
  {
   "cell_type": "code",
   "execution_count": null,
   "id": "27786d5a",
   "metadata": {},
   "outputs": [],
   "source": []
  }
 ],
 "metadata": {
  "kernelspec": {
   "display_name": "Python 3",
   "language": "python",
   "name": "python3"
  },
  "language_info": {
   "codemirror_mode": {
    "name": "ipython",
    "version": 3
   },
   "file_extension": ".py",
   "mimetype": "text/x-python",
   "name": "python",
   "nbconvert_exporter": "python",
   "pygments_lexer": "ipython3",
   "version": "3.7.3"
  }
 },
 "nbformat": 4,
 "nbformat_minor": 5
}
