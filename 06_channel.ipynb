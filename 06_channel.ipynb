{
 "cells": [
  {
   "cell_type": "markdown",
   "id": "c2c1efbd",
   "metadata": {},
   "source": [
    "http://www.pythonchallenge.com/pc/def/channel.html"
   ]
  },
  {
   "cell_type": "code",
   "execution_count": 1,
   "id": "f7d743ae",
   "metadata": {},
   "outputs": [],
   "source": [
    "import requests"
   ]
  },
  {
   "cell_type": "code",
   "execution_count": 2,
   "id": "3f1a82d1",
   "metadata": {},
   "outputs": [],
   "source": [
    "url = \"http://www.pythonchallenge.com/pc/def/channel.html\"\n",
    "page_get = requests.get(url)"
   ]
  },
  {
   "cell_type": "code",
   "execution_count": 3,
   "id": "4f626188",
   "metadata": {},
   "outputs": [
    {
     "data": {
      "text/plain": [
       "'<html> <!-- <-- zip -->\\n<head>\\n  <title>now there are pairs</title>\\n  <link rel=\"stylesheet\" type=\"text/css\" href=\"../style.css\">\\n</head>\\n<body>\\n<center>\\n<img src=\"channel.jpg\">\\n<br/>\\n<!-- The following has nothing to do with the riddle itself. I just\\nthought it would be the right point to offer you to donate to the\\nPython Challenge project. Any amount will be greatly appreciated.\\n\\n-thesamet\\n-->\\n\\n<form action=\"https://www.paypal.com/cgi-bin/webscr\" method=\"post\">\\n    <input type=\"hidden\" name=\"cmd\" value=\"_xclick\">\\n    <input type=\"hidden\" name=\"business\" value=\"thesamet@gmail.com\">\\n    <input type=\"hidden\" name=\"item_name\" value=\"Python Challenge donations\">\\n    <input type=\"hidden\" name=\"no_note\" value=\"1\">\\n    <input type=\"hidden\" name=\"currency_code\" value=\"USD\">\\n    <input type=\"hidden\" name=\"tax\" value=\"0\">\\n    <input type=\"hidden\" name=\"bn\" value=\"PP-DonationsBF\">\\n    <input type=\"image\" src=\"https://www.paypal.com/en_US/i/btn/x-click-but04.gif\" border=\"0\" name=\"submit\" alt=\"Make payments with PayPal - it\\'s fast, free and secure!\">\\n    <img alt=\"\" border=\"0\" src=\"https://www.paypal.com/en_US/i/scr/pixel.gif\" width=\"1\" height=\"1\">\\n</form>\\n\\n</body>\\n</html>\\n'"
      ]
     },
     "execution_count": 3,
     "metadata": {},
     "output_type": "execute_result"
    }
   ],
   "source": [
    "page_get.text"
   ]
  },
  {
   "cell_type": "markdown",
   "id": "c7bfacba",
   "metadata": {},
   "source": [
    "<b>zip<br>\n",
    "\n",
    "Now there are pairs<br>\n",
    "The following has nothing to do with the riddle itself.<br>\n",
    "I just thought it would be the right point to offer you to donate to the Python Challenge project.<br>\n",
    "Any amount will be greatly appreciated.<br>"
   ]
  },
  {
   "cell_type": "code",
   "execution_count": 9,
   "id": "2d2e1b54",
   "metadata": {},
   "outputs": [
    {
     "name": "stdout",
     "output_type": "stream",
     "text": [
      "File exists\n"
     ]
    }
   ],
   "source": [
    "import os\n",
    "from zipfile import ZipFile\n",
    "\n",
    "path = os.getcwd()\n",
    "if os.path.exists(os.path.join(path, 'data', 'channel.zip')):\n",
    "    print('File exists')\n",
    "else:\n",
    "    import wget\n",
    "    wget.download(url.replace('html', 'zip'), out = path.join(os.path, 'data'))\n",
    "    \n",
    "with ZipFile(os.path.join(path, 'data', 'channel.zip'), 'r') as zf:\n",
    "    zf.extractall(os.path.join(path, 'data', 'channel'))"
   ]
  },
  {
   "cell_type": "code",
   "execution_count": 10,
   "id": "38daa198",
   "metadata": {},
   "outputs": [
    {
     "name": "stdout",
     "output_type": "stream",
     "text": [
      "welcome to my zipped list.\n",
      "\n",
      "hint1: start from 90052\n",
      "hint2: answer is inside the zip\n",
      "\n"
     ]
    }
   ],
   "source": [
    "with open(os.path.join(path, 'data', 'channel', 'readme.txt'), 'r') as f:\n",
    "    string = f.read()\n",
    "print(string)"
   ]
  },
  {
   "cell_type": "code",
   "execution_count": 11,
   "id": "d23efb95",
   "metadata": {},
   "outputs": [],
   "source": [
    "def get_from_txt(num_code):\n",
    "    with open(os.path.join(path, 'data', 'channel', '{}.txt'.format(num_code)), 'r') as f:\n",
    "        string = f.read()\n",
    "    return str(string.split(' ')[-1])"
   ]
  },
  {
   "cell_type": "code",
   "execution_count": 12,
   "id": "28ea7048",
   "metadata": {},
   "outputs": [
    {
     "name": "stdout",
     "output_type": "stream",
     "text": [
      "Number of items: 910\n",
      "Last number: 46145\n",
      "Text from the last file: \"Collect the comments.\"\n",
      "Wall time: 314 ms\n"
     ]
    }
   ],
   "source": [
    "%%time\n",
    "num_code_list = []\n",
    "num_code = '90052'\n",
    "\n",
    "while(num_code.isnumeric()):\n",
    "    num_code_list.append(num_code)\n",
    "    num_code = get_from_txt(num_code)\n",
    "    \n",
    "with open(os.path.join(path, 'data', 'channel', '{}.txt'.format(num_code_list[-1])), 'r') as f:\n",
    "    string = f.read()\n",
    "    \n",
    "print(\"Number of items: {}\".format(len(num_code_list) + 1))\n",
    "print(\"Last number: {}\".format(num_code_list[-1]))\n",
    "print('Text from the last file: \"{}\"'.format(string))"
   ]
  },
  {
   "cell_type": "code",
   "execution_count": 13,
   "id": "369d7430",
   "metadata": {},
   "outputs": [
    {
     "name": "stdout",
     "output_type": "stream",
     "text": [
      "****************************************************************\n",
      "****************************************************************\n",
      "**                                                            **\n",
      "**   OO    OO    XX      YYYY    GG    GG  EEEEEE NN      NN  **\n",
      "**   OO    OO  XXXXXX   YYYYYY   GG   GG   EEEEEE  NN    NN   **\n",
      "**   OO    OO XXX  XXX YYY   YY  GG GG     EE       NN  NN    **\n",
      "**   OOOOOOOO XX    XX YY        GGG       EEEEE     NNNN     **\n",
      "**   OOOOOOOO XX    XX YY        GGG       EEEEE      NN      **\n",
      "**   OO    OO XXX  XXX YYY   YY  GG GG     EE         NN      **\n",
      "**   OO    OO  XXXXXX   YYYYYY   GG   GG   EEEEEE     NN      **\n",
      "**   OO    OO    XX      YYYY    GG    GG  EEEEEE     NN      **\n",
      "**                                                            **\n",
      "****************************************************************\n",
      " **************************************************************\n",
      "\n",
      "Wall time: 331 ms\n"
     ]
    }
   ],
   "source": [
    "%%time\n",
    "zip_itself = ZipFile(os.path.join(path, 'data', 'channel.zip'))\n",
    "comment_list = []\n",
    "num_code = '90052'\n",
    "\n",
    "while(num_code.isnumeric()):\n",
    "    comment_list.append(zip_itself.getinfo('{}.txt'.format(num_code)).comment.decode('utf-8'))\n",
    "    num_code = get_from_txt(num_code)\n",
    "    \n",
    "print(''.join(comment_list))"
   ]
  },
  {
   "cell_type": "markdown",
   "id": "63582628",
   "metadata": {},
   "source": [
    "hockey"
   ]
  },
  {
   "cell_type": "markdown",
   "id": "d4597e71",
   "metadata": {},
   "source": [
    "it's in the air. look at the letters."
   ]
  },
  {
   "cell_type": "code",
   "execution_count": 14,
   "id": "94dfd513",
   "metadata": {},
   "outputs": [
    {
     "name": "stdout",
     "output_type": "stream",
     "text": [
      "oxygen\n"
     ]
    }
   ],
   "source": [
    "import string\n",
    "\n",
    "comment_list = [item for item in comment_list if item.lower() in string.ascii_lowercase]\n",
    "\n",
    "distinct_list = []\n",
    "for char in comment_list:\n",
    "    if char.lower() in distinct_list:\n",
    "        pass\n",
    "    else:\n",
    "        distinct_list.append(char.lower())\n",
    "        \n",
    "print(''.join(distinct_list))"
   ]
  },
  {
   "cell_type": "code",
   "execution_count": 15,
   "id": "d50a5af3",
   "metadata": {},
   "outputs": [],
   "source": [
    "import shutil\n",
    "\n",
    "shutil.rmtree(os.path.join(path, 'data', 'channel'))"
   ]
  }
 ],
 "metadata": {
  "kernelspec": {
   "display_name": "Python 3",
   "language": "python",
   "name": "python3"
  },
  "language_info": {
   "codemirror_mode": {
    "name": "ipython",
    "version": 3
   },
   "file_extension": ".py",
   "mimetype": "text/x-python",
   "name": "python",
   "nbconvert_exporter": "python",
   "pygments_lexer": "ipython3",
   "version": "3.7.3"
  }
 },
 "nbformat": 4,
 "nbformat_minor": 5
}
