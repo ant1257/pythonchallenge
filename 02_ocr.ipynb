{
 "cells": [
  {
   "cell_type": "markdown",
   "id": "f0c3d239",
   "metadata": {},
   "source": [
    "http://www.pythonchallenge.com/pc/def/ocr.html"
   ]
  },
  {
   "cell_type": "code",
   "execution_count": 53,
   "id": "03beec51",
   "metadata": {},
   "outputs": [],
   "source": [
    "import requests\n",
    "import string"
   ]
  },
  {
   "cell_type": "code",
   "execution_count": 37,
   "id": "42ca1966",
   "metadata": {},
   "outputs": [],
   "source": [
    "url = 'http://www.pythonchallenge.com/pc/def/ocr.html'\n",
    "page_get = requests.get(url)"
   ]
  },
  {
   "cell_type": "code",
   "execution_count": 59,
   "id": "5e916f33",
   "metadata": {},
   "outputs": [
    {
     "name": "stdout",
     "output_type": "stream",
     "text": [
      "equality\n"
     ]
    }
   ],
   "source": [
    "start_comb = '\\n-->\\n\\n<!--\\n'\n",
    "end_comb = '\\n-->\\n\\n'\n",
    "check_string = page_get.text[page_get.text.index(start_comb) + len(start_comb):]\n",
    "check_string = check_string[:check_string.index(end_comb)]\n",
    "out_string = ''.join([item for item in check_string if item in string.ascii_lowercase])\n",
    "print(out_string)"
   ]
  }
 ],
 "metadata": {
  "kernelspec": {
   "display_name": "Python 3",
   "language": "python",
   "name": "python3"
  },
  "language_info": {
   "codemirror_mode": {
    "name": "ipython",
    "version": 3
   },
   "file_extension": ".py",
   "mimetype": "text/x-python",
   "name": "python",
   "nbconvert_exporter": "python",
   "pygments_lexer": "ipython3",
   "version": "3.7.3"
  }
 },
 "nbformat": 4,
 "nbformat_minor": 5
}
