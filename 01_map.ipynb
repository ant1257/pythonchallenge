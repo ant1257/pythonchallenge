{
 "cells": [
  {
   "cell_type": "code",
   "execution_count": 30,
   "id": "a21a1e47",
   "metadata": {},
   "outputs": [],
   "source": [
    "import string"
   ]
  },
  {
   "cell_type": "code",
   "execution_count": 27,
   "id": "15385f87",
   "metadata": {},
   "outputs": [],
   "source": [
    "def decode_string(string_input, n):\n",
    "    \"\"\"\n",
    "    Decode a string where all the letters are shifted to the right for STEP symbols.\n",
    "    \"\"\"\n",
    "    alphabet_ori = string.ascii_lowercase\n",
    "    alphabet_key = alphabet_ori[n:] + alphabet_ori[:n]\n",
    "    string_output = ''\n",
    "\n",
    "    for char in string_input:\n",
    "        if char in alphabet_ori:\n",
    "            char = alphabet_key[alphabet_ori.index(char)]\n",
    "        string_output += char\n",
    "\n",
    "    return string_output"
   ]
  },
  {
   "cell_type": "code",
   "execution_count": 28,
   "id": "3cb9089a",
   "metadata": {},
   "outputs": [
    {
     "data": {
      "text/plain": [
       "\"i hope you didnt translate it by hand. thats what computers are for. doing it in by hand is inefficient and that's why this text is so long. using string.maketrans() is recommended. now apply on the url.\""
      ]
     },
     "execution_count": 28,
     "metadata": {},
     "output_type": "execute_result"
    }
   ],
   "source": [
    "string_coded = \"g fmnc wms bgblr rpylqjyrc gr zw fylb. rfyrq ufyr amknsrcpq ypc dmp. bmgle gr gl zw fylb gq glcddgagclr ylb rfyr'q ufw rfgq rcvr gq qm jmle. sqgle qrpgle.kyicrpylq() gq pcamkkclbcb. lmu ynnjw ml rfc spj.\"\n",
    "decode_string(string_coded, 2)"
   ]
  },
  {
   "cell_type": "code",
   "execution_count": 31,
   "id": "af6563cb",
   "metadata": {},
   "outputs": [
    {
     "data": {
      "text/plain": [
       "'ocr'"
      ]
     },
     "execution_count": 31,
     "metadata": {},
     "output_type": "execute_result"
    }
   ],
   "source": [
    "decode_string('map', 2)"
   ]
  }
 ],
 "metadata": {
  "kernelspec": {
   "display_name": "Python 3",
   "language": "python",
   "name": "python3"
  },
  "language_info": {
   "codemirror_mode": {
    "name": "ipython",
    "version": 3
   },
   "file_extension": ".py",
   "mimetype": "text/x-python",
   "name": "python",
   "nbconvert_exporter": "python",
   "pygments_lexer": "ipython3",
   "version": "3.7.3"
  }
 },
 "nbformat": 4,
 "nbformat_minor": 5
}
