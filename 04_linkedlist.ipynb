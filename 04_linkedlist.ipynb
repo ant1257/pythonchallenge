{
 "cells": [
  {
   "cell_type": "markdown",
   "id": "cb4bed9e",
   "metadata": {},
   "source": [
    "http://www.pythonchallenge.com/pc/def/linkedlist.php"
   ]
  },
  {
   "cell_type": "code",
   "execution_count": 1,
   "id": "ef5dc724",
   "metadata": {},
   "outputs": [],
   "source": [
    "import requests"
   ]
  },
  {
   "cell_type": "code",
   "execution_count": 2,
   "id": "6c8cc93e",
   "metadata": {},
   "outputs": [],
   "source": [
    "url = \"http://www.pythonchallenge.com/pc/def/linkedlist.php\"\n",
    "page_get = requests.get(url)"
   ]
  },
  {
   "cell_type": "code",
   "execution_count": 3,
   "id": "efe4e292",
   "metadata": {},
   "outputs": [
    {
     "data": {
      "text/plain": [
       "'<html>\\n<head>\\n  <title>follow the chain</title>\\n  <link rel=\"stylesheet\" type=\"text/css\" href=\"../style.css\">\\n</head>\\n<body>\\n<!-- urllib may help. DON\\'T TRY ALL NOTHINGS, since it will never \\nend. 400 times is more than enough. -->\\n<center>\\n<a href=\"linkedlist.php?nothing=12345\"><img src=\"chainsaw.jpg\" border=\"0\"/></a>\\n<br><br><font color=\"gold\"></center>\\nSolutions to previous levels: <a href=\"http://wiki.pythonchallenge.com/\"/>Python Challenge wiki</a>.\\n<br><br>\\nIRC: irc.freenode.net #pythonchallenge\\n</body>\\n</html>\\n\\n'"
      ]
     },
     "execution_count": 3,
     "metadata": {},
     "output_type": "execute_result"
    }
   ],
   "source": [
    "page_get.text"
   ]
  },
  {
   "cell_type": "markdown",
   "id": "6f3f9b7d",
   "metadata": {},
   "source": [
    "urllib may help. \n",
    "DON'T TRY ALL NOTHINGS, since it will never end. \n",
    "400 times is more than enough."
   ]
  },
  {
   "cell_type": "code",
   "execution_count": 14,
   "id": "6a877c1a",
   "metadata": {},
   "outputs": [
    {
     "name": "stdout",
     "output_type": "stream",
     "text": [
      "Wall time: 5min 47s\n"
     ]
    }
   ],
   "source": [
    "%%time\n",
    "url_structure = 'http://www.pythonchallenge.com/pc/def/linkedlist.php?nothing='\n",
    "nothing = str(12345)\n",
    "nothing_list = [nothing]\n",
    "\n",
    "for i in range(0, 400 + 1):\n",
    "    page_get = requests.get(url_structure + nothing)\n",
    "    # nothing = ''.join([char for char in page_get.text if char.isnumeric()])\n",
    "    nothing = requests.get(url_structure + nothing).text.split(' ')[-1]\n",
    "    nothing_list.append(nothing)"
   ]
  },
  {
   "cell_type": "code",
   "execution_count": 18,
   "id": "e7d3a14e",
   "metadata": {},
   "outputs": [
    {
     "data": {
      "text/plain": [
       "{'going.', 'peak.html'}"
      ]
     },
     "execution_count": 18,
     "metadata": {},
     "output_type": "execute_result"
    }
   ],
   "source": [
    "set([item for item in nothing_list if item.isnumeric() == False])"
   ]
  },
  {
   "cell_type": "markdown",
   "id": "8a5ce755",
   "metadata": {},
   "source": [
    "peak.html"
   ]
  },
  {
   "cell_type": "markdown",
   "id": "1a071314",
   "metadata": {},
   "source": [
    "http://www.pythonchallenge.com/pc/def/linkedlist.php?nothing=16044 - \"Yes. Divide by two and keep going.\""
   ]
  }
 ],
 "metadata": {
  "kernelspec": {
   "display_name": "Python 3",
   "language": "python",
   "name": "python3"
  },
  "language_info": {
   "codemirror_mode": {
    "name": "ipython",
    "version": 3
   },
   "file_extension": ".py",
   "mimetype": "text/x-python",
   "name": "python",
   "nbconvert_exporter": "python",
   "pygments_lexer": "ipython3",
   "version": "3.7.3"
  }
 },
 "nbformat": 4,
 "nbformat_minor": 5
}
