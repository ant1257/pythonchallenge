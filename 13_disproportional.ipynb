{
 "cells": [
  {
   "cell_type": "markdown",
   "metadata": {},
   "source": [
    "http://www.pythonchallenge.com/pc/return/disproportional.html"
   ]
  },
  {
   "cell_type": "code",
   "execution_count": 1,
   "metadata": {},
   "outputs": [],
   "source": [
    "import requests"
   ]
  },
  {
   "cell_type": "code",
   "execution_count": 8,
   "metadata": {},
   "outputs": [
    {
     "name": "stdout",
     "output_type": "stream",
     "text": [
      "Status: 200\n",
      "<html>\n",
      "<head>\n",
      "  <title>call him</title>\n",
      "  <link rel=\"stylesheet\" type=\"text/css\" href=\"../style.css\">\n",
      "</head>\n",
      "<body>\n",
      "<center>\n",
      "<img src=\"disprop.jpg\" width=\"640\" height=\"480\" border=\"0\" usemap=\"#evil\" />\n",
      "\t<map name=\"evil\">\n",
      "\t\t<area shape=\"circle\" coords=\"326,177,45\" href=\"../phonebook.php\" />\n",
      "\t</map>\n",
      "<font color=\"gold\"/>\n",
      "<br><b>\n",
      "\tphone that <remote /> evil\n",
      "</br>\n",
      "</html>\n",
      "\n"
     ]
    }
   ],
   "source": [
    "url = 'http://www.pythonchallenge.com/pc/return/disproportional.html'\n",
    "page_get = requests.get(url, auth = ('huge', 'file'))\n",
    "print('Status: {}'.format(page_get.status_code))\n",
    "print(page_get.text)"
   ]
  },
  {
   "cell_type": "code",
   "execution_count": 9,
   "metadata": {},
   "outputs": [
    {
     "name": "stdout",
     "output_type": "stream",
     "text": [
      "Status: 200\n",
      "<?xml version=\"1.0\"?>\n",
      "<methodResponse>\n",
      "<fault>\n",
      "<value>\n",
      "<struct><member><name>faultCode</name>\n",
      "<value><int>105</int></value>\n",
      "</member>\n",
      "<member>\n",
      "<name>faultString</name>\n",
      "<value><string>XML error 5: empty document</string></value>\n",
      "</member>\n",
      "</struct>\n",
      "</value>\n",
      "</fault>\n",
      "</methodResponse>\n"
     ]
    }
   ],
   "source": [
    "url = 'http://www.pythonchallenge.com/pc/phonebook.php'\n",
    "page_get = requests.get(url, auth = ('huge', 'file'))\n",
    "print('Status: {}'.format(page_get.status_code))\n",
    "print(page_get.text)"
   ]
  },
  {
   "cell_type": "code",
   "execution_count": 10,
   "metadata": {},
   "outputs": [],
   "source": [
    "from xmlrpc import client"
   ]
  },
  {
   "cell_type": "code",
   "execution_count": 22,
   "metadata": {},
   "outputs": [
    {
     "name": "stdout",
     "output_type": "stream",
     "text": [
      "<ServerProxy for www.pythonchallenge.com/pc/phonebook.php>\n"
     ]
    },
    {
     "data": {
      "text/plain": [
       "['phone',\n",
       " 'system.listMethods',\n",
       " 'system.methodHelp',\n",
       " 'system.methodSignature',\n",
       " 'system.multicall',\n",
       " 'system.getCapabilities']"
      ]
     },
     "execution_count": 22,
     "metadata": {},
     "output_type": "execute_result"
    }
   ],
   "source": [
    "uri = 'http://www.pythonchallenge.com/pc/phonebook.php'\n",
    "connection = client.ServerProxy(uri)\n",
    "print(connection)\n",
    "connection.system.listMethods()"
   ]
  },
  {
   "cell_type": "code",
   "execution_count": 24,
   "metadata": {},
   "outputs": [
    {
     "name": "stdout",
     "output_type": "stream",
     "text": [
      "Returns the phone of a person\n",
      "[['string', 'string']]\n"
     ]
    }
   ],
   "source": [
    "print(connection.system.methodHelp('phone'))\n",
    "print(connection.system.methodSignature('phone'))"
   ]
  },
  {
   "cell_type": "code",
   "execution_count": 34,
   "metadata": {},
   "outputs": [
    {
     "name": "stdout",
     "output_type": "stream",
     "text": [
      "CPU times: user 19.2 ms, sys: 4.33 ms, total: 23.5 ms\n",
      "Wall time: 5.32 s\n"
     ]
    }
   ],
   "source": [
    "%%time\n",
    "outcome_dict = {}\n",
    "\n",
    "for item in 'bert evil back 555 disprop phonebook'.split():\n",
    "    for item in [item.upper(), item.lower(), item.capitalize()]:\n",
    "        try:\n",
    "            outcome = connection.phone(item)\n",
    "        except Exception as e:\n",
    "            outcome = 'ERROR: {}'.format(e)\n",
    "        outcome_dict[item] = outcome"
   ]
  },
  {
   "cell_type": "code",
   "execution_count": 35,
   "metadata": {},
   "outputs": [
    {
     "data": {
      "text/plain": [
       "{'BERT': 'He is not the evil',\n",
       " 'bert': 'He is not the evil',\n",
       " 'Bert': '555-ITALY',\n",
       " 'EVIL': 'He is not the evil',\n",
       " 'evil': 'He is not the evil',\n",
       " 'Evil': 'He is not the evil',\n",
       " 'BACK': 'He is not the evil',\n",
       " 'back': 'He is not the evil',\n",
       " 'Back': 'He is not the evil',\n",
       " '555': 'He is not the evil',\n",
       " 'DISPROP': 'He is not the evil',\n",
       " 'disprop': 'He is not the evil',\n",
       " 'Disprop': 'He is not the evil',\n",
       " 'PHONEBOOK': 'He is not the evil',\n",
       " 'phonebook': 'He is not the evil',\n",
       " 'Phonebook': 'He is not the evil'}"
      ]
     },
     "execution_count": 35,
     "metadata": {},
     "output_type": "execute_result"
    }
   ],
   "source": [
    "outcome_dict"
   ]
  },
  {
   "cell_type": "code",
   "execution_count": 36,
   "metadata": {},
   "outputs": [
    {
     "data": {
      "text/plain": [
       "'555-ITALY'"
      ]
     },
     "execution_count": 36,
     "metadata": {},
     "output_type": "execute_result"
    }
   ],
   "source": [
    "outcome_dict['Bert']"
   ]
  },
  {
   "cell_type": "markdown",
   "metadata": {},
   "source": [
    "Potential answers:<br>\n",
    "http://www.pythonchallenge.com/pc/return/555-ITALY.html <br>\n",
    "http://www.pythonchallenge.com/pc/return/555-italy.html <br>\n",
    "http://www.pythonchallenge.com/pc/return/ITALY.html <br>\n",
    "http://www.pythonchallenge.com/pc/return/italy.html"
   ]
  },
  {
   "cell_type": "code",
   "execution_count": null,
   "metadata": {},
   "outputs": [],
   "source": []
  }
 ],
 "metadata": {
  "kernelspec": {
   "display_name": "Python 3",
   "language": "python",
   "name": "python3"
  },
  "language_info": {
   "codemirror_mode": {
    "name": "ipython",
    "version": 3
   },
   "file_extension": ".py",
   "mimetype": "text/x-python",
   "name": "python",
   "nbconvert_exporter": "python",
   "pygments_lexer": "ipython3",
   "version": "3.8.5"
  }
 },
 "nbformat": 4,
 "nbformat_minor": 4
}
